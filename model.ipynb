{
  "cells": [
    {
      "cell_type": "markdown",
      "metadata": {
        "id": "x-0Iyc47cCRs"
      },
      "source": [
        "Import Modules\n"
      ]
    },
    {
      "cell_type": "code",
      "execution_count": 39,
      "metadata": {
        "id": "shEgspVFcCRw"
      },
      "outputs": [],
      "source": [
        "import pandas as pd\n",
        "import numpy as np\n",
        "import os\n",
        "import matplotlib.pyplot as plt\n",
        "import seaborn as sns\n",
        "import warnings\n",
        "import random\n",
        "from tqdm.notebook import tqdm\n",
        "warnings.filterwarnings('ignore')\n",
        "%matplotlib inline\n",
        "\n",
        "import tensorflow as tf\n",
        "from tensorflow.keras.utils import to_categorical\n",
        "from keras.utils import load_img\n",
        "from keras.models import Sequential\n",
        "from keras.layers import Dense,Conv2D,Dropout,Flatten,MaxPool2D\n",
        "from tensorflow.keras.callbacks import EarlyStopping\n",
        "from keras import regularizers"
      ]
    },
    {
      "cell_type": "code",
      "source": [
        "from google.colab import drive\n",
        "drive.mount('/content/drive')\n"
      ],
      "metadata": {
        "colab": {
          "base_uri": "https://localhost:8080/"
        },
        "id": "a9kzBeeHcX7v",
        "outputId": "aa01a767-cee3-4b8d-ee12-97aacac86b54"
      },
      "execution_count": 1,
      "outputs": [
        {
          "output_type": "stream",
          "name": "stdout",
          "text": [
            "Mounted at /content/drive\n"
          ]
        }
      ]
    },
    {
      "cell_type": "markdown",
      "metadata": {
        "id": "ABOdOKGtcCR1"
      },
      "source": [
        "loading dataset"
      ]
    },
    {
      "cell_type": "code",
      "execution_count": 2,
      "metadata": {
        "id": "q4z28XHvcCR2"
      },
      "outputs": [],
      "source": [
        "\n",
        "TRAIN_DIR='/content/drive/MyDrive/dataset/FER/test'\n",
        "TEST_DIR='/content/drive/MyDrive/dataset/FER/test'"
      ]
    },
    {
      "cell_type": "markdown",
      "metadata": {
        "id": "tIoOVHXbcCR2"
      },
      "source": [
        "function for converting folder into csv\n"
      ]
    },
    {
      "cell_type": "code",
      "execution_count": 6,
      "metadata": {
        "id": "h-bDGcPqcCR3"
      },
      "outputs": [],
      "source": [
        "def load_dataset(directory):\n",
        "    image_paths=[]\n",
        "    labels=[]\n",
        "\n",
        "    for label in os.listdir(directory):\n",
        "        for filename in os.listdir(os.path.join(directory,label)): #path.join adds / between path\n",
        "            image_path=os.path.join(directory,label,filename)\n",
        "            image_paths.append(image_path)\n",
        "            labels.append(label)\n",
        "\n",
        "        print(label,\"completed\")\n",
        "\n",
        "    return image_paths,labels"
      ]
    },
    {
      "cell_type": "markdown",
      "metadata": {
        "id": "bJRY1u9McCR4"
      },
      "source": [
        "initialize train DataFrame\n"
      ]
    },
    {
      "cell_type": "code",
      "execution_count": 7,
      "metadata": {
        "id": "Ea-N6hMncCR7",
        "outputId": "4f473686-18fc-4369-b320-a77b644c5a2d",
        "colab": {
          "base_uri": "https://localhost:8080/",
          "height": 327
        }
      },
      "outputs": [
        {
          "output_type": "stream",
          "name": "stdout",
          "text": [
            "angry completed\n",
            "disgust completed\n",
            "fear completed\n",
            "happy completed\n",
            "neutral completed\n",
            "sad completed\n",
            "surprise completed\n"
          ]
        },
        {
          "output_type": "execute_result",
          "data": {
            "text/plain": [
              "                                               image  label\n",
              "0  /content/drive/MyDrive/dataset/FER/test/happy/...  happy\n",
              "1  /content/drive/MyDrive/dataset/FER/test/angry/...  angry\n",
              "2  /content/drive/MyDrive/dataset/FER/test/happy/...  happy\n",
              "3  /content/drive/MyDrive/dataset/FER/test/happy/...  happy\n",
              "4  /content/drive/MyDrive/dataset/FER/test/sad/Pr...    sad"
            ],
            "text/html": [
              "\n",
              "  <div id=\"df-3d8f16c8-fc39-40c3-9729-1992784e9952\" class=\"colab-df-container\">\n",
              "    <div>\n",
              "<style scoped>\n",
              "    .dataframe tbody tr th:only-of-type {\n",
              "        vertical-align: middle;\n",
              "    }\n",
              "\n",
              "    .dataframe tbody tr th {\n",
              "        vertical-align: top;\n",
              "    }\n",
              "\n",
              "    .dataframe thead th {\n",
              "        text-align: right;\n",
              "    }\n",
              "</style>\n",
              "<table border=\"1\" class=\"dataframe\">\n",
              "  <thead>\n",
              "    <tr style=\"text-align: right;\">\n",
              "      <th></th>\n",
              "      <th>image</th>\n",
              "      <th>label</th>\n",
              "    </tr>\n",
              "  </thead>\n",
              "  <tbody>\n",
              "    <tr>\n",
              "      <th>0</th>\n",
              "      <td>/content/drive/MyDrive/dataset/FER/test/happy/...</td>\n",
              "      <td>happy</td>\n",
              "    </tr>\n",
              "    <tr>\n",
              "      <th>1</th>\n",
              "      <td>/content/drive/MyDrive/dataset/FER/test/angry/...</td>\n",
              "      <td>angry</td>\n",
              "    </tr>\n",
              "    <tr>\n",
              "      <th>2</th>\n",
              "      <td>/content/drive/MyDrive/dataset/FER/test/happy/...</td>\n",
              "      <td>happy</td>\n",
              "    </tr>\n",
              "    <tr>\n",
              "      <th>3</th>\n",
              "      <td>/content/drive/MyDrive/dataset/FER/test/happy/...</td>\n",
              "      <td>happy</td>\n",
              "    </tr>\n",
              "    <tr>\n",
              "      <th>4</th>\n",
              "      <td>/content/drive/MyDrive/dataset/FER/test/sad/Pr...</td>\n",
              "      <td>sad</td>\n",
              "    </tr>\n",
              "  </tbody>\n",
              "</table>\n",
              "</div>\n",
              "    <div class=\"colab-df-buttons\">\n",
              "\n",
              "  <div class=\"colab-df-container\">\n",
              "    <button class=\"colab-df-convert\" onclick=\"convertToInteractive('df-3d8f16c8-fc39-40c3-9729-1992784e9952')\"\n",
              "            title=\"Convert this dataframe to an interactive table.\"\n",
              "            style=\"display:none;\">\n",
              "\n",
              "  <svg xmlns=\"http://www.w3.org/2000/svg\" height=\"24px\" viewBox=\"0 -960 960 960\">\n",
              "    <path d=\"M120-120v-720h720v720H120Zm60-500h600v-160H180v160Zm220 220h160v-160H400v160Zm0 220h160v-160H400v160ZM180-400h160v-160H180v160Zm440 0h160v-160H620v160ZM180-180h160v-160H180v160Zm440 0h160v-160H620v160Z\"/>\n",
              "  </svg>\n",
              "    </button>\n",
              "\n",
              "  <style>\n",
              "    .colab-df-container {\n",
              "      display:flex;\n",
              "      gap: 12px;\n",
              "    }\n",
              "\n",
              "    .colab-df-convert {\n",
              "      background-color: #E8F0FE;\n",
              "      border: none;\n",
              "      border-radius: 50%;\n",
              "      cursor: pointer;\n",
              "      display: none;\n",
              "      fill: #1967D2;\n",
              "      height: 32px;\n",
              "      padding: 0 0 0 0;\n",
              "      width: 32px;\n",
              "    }\n",
              "\n",
              "    .colab-df-convert:hover {\n",
              "      background-color: #E2EBFA;\n",
              "      box-shadow: 0px 1px 2px rgba(60, 64, 67, 0.3), 0px 1px 3px 1px rgba(60, 64, 67, 0.15);\n",
              "      fill: #174EA6;\n",
              "    }\n",
              "\n",
              "    .colab-df-buttons div {\n",
              "      margin-bottom: 4px;\n",
              "    }\n",
              "\n",
              "    [theme=dark] .colab-df-convert {\n",
              "      background-color: #3B4455;\n",
              "      fill: #D2E3FC;\n",
              "    }\n",
              "\n",
              "    [theme=dark] .colab-df-convert:hover {\n",
              "      background-color: #434B5C;\n",
              "      box-shadow: 0px 1px 3px 1px rgba(0, 0, 0, 0.15);\n",
              "      filter: drop-shadow(0px 1px 2px rgba(0, 0, 0, 0.3));\n",
              "      fill: #FFFFFF;\n",
              "    }\n",
              "  </style>\n",
              "\n",
              "    <script>\n",
              "      const buttonEl =\n",
              "        document.querySelector('#df-3d8f16c8-fc39-40c3-9729-1992784e9952 button.colab-df-convert');\n",
              "      buttonEl.style.display =\n",
              "        google.colab.kernel.accessAllowed ? 'block' : 'none';\n",
              "\n",
              "      async function convertToInteractive(key) {\n",
              "        const element = document.querySelector('#df-3d8f16c8-fc39-40c3-9729-1992784e9952');\n",
              "        const dataTable =\n",
              "          await google.colab.kernel.invokeFunction('convertToInteractive',\n",
              "                                                    [key], {});\n",
              "        if (!dataTable) return;\n",
              "\n",
              "        const docLinkHtml = 'Like what you see? Visit the ' +\n",
              "          '<a target=\"_blank\" href=https://colab.research.google.com/notebooks/data_table.ipynb>data table notebook</a>'\n",
              "          + ' to learn more about interactive tables.';\n",
              "        element.innerHTML = '';\n",
              "        dataTable['output_type'] = 'display_data';\n",
              "        await google.colab.output.renderOutput(dataTable, element);\n",
              "        const docLink = document.createElement('div');\n",
              "        docLink.innerHTML = docLinkHtml;\n",
              "        element.appendChild(docLink);\n",
              "      }\n",
              "    </script>\n",
              "  </div>\n",
              "\n",
              "\n",
              "<div id=\"df-36278d13-189f-4536-a30c-5b5a2b6aea68\">\n",
              "  <button class=\"colab-df-quickchart\" onclick=\"quickchart('df-36278d13-189f-4536-a30c-5b5a2b6aea68')\"\n",
              "            title=\"Suggest charts\"\n",
              "            style=\"display:none;\">\n",
              "\n",
              "<svg xmlns=\"http://www.w3.org/2000/svg\" height=\"24px\"viewBox=\"0 0 24 24\"\n",
              "     width=\"24px\">\n",
              "    <g>\n",
              "        <path d=\"M19 3H5c-1.1 0-2 .9-2 2v14c0 1.1.9 2 2 2h14c1.1 0 2-.9 2-2V5c0-1.1-.9-2-2-2zM9 17H7v-7h2v7zm4 0h-2V7h2v10zm4 0h-2v-4h2v4z\"/>\n",
              "    </g>\n",
              "</svg>\n",
              "  </button>\n",
              "\n",
              "<style>\n",
              "  .colab-df-quickchart {\n",
              "      --bg-color: #E8F0FE;\n",
              "      --fill-color: #1967D2;\n",
              "      --hover-bg-color: #E2EBFA;\n",
              "      --hover-fill-color: #174EA6;\n",
              "      --disabled-fill-color: #AAA;\n",
              "      --disabled-bg-color: #DDD;\n",
              "  }\n",
              "\n",
              "  [theme=dark] .colab-df-quickchart {\n",
              "      --bg-color: #3B4455;\n",
              "      --fill-color: #D2E3FC;\n",
              "      --hover-bg-color: #434B5C;\n",
              "      --hover-fill-color: #FFFFFF;\n",
              "      --disabled-bg-color: #3B4455;\n",
              "      --disabled-fill-color: #666;\n",
              "  }\n",
              "\n",
              "  .colab-df-quickchart {\n",
              "    background-color: var(--bg-color);\n",
              "    border: none;\n",
              "    border-radius: 50%;\n",
              "    cursor: pointer;\n",
              "    display: none;\n",
              "    fill: var(--fill-color);\n",
              "    height: 32px;\n",
              "    padding: 0;\n",
              "    width: 32px;\n",
              "  }\n",
              "\n",
              "  .colab-df-quickchart:hover {\n",
              "    background-color: var(--hover-bg-color);\n",
              "    box-shadow: 0 1px 2px rgba(60, 64, 67, 0.3), 0 1px 3px 1px rgba(60, 64, 67, 0.15);\n",
              "    fill: var(--button-hover-fill-color);\n",
              "  }\n",
              "\n",
              "  .colab-df-quickchart-complete:disabled,\n",
              "  .colab-df-quickchart-complete:disabled:hover {\n",
              "    background-color: var(--disabled-bg-color);\n",
              "    fill: var(--disabled-fill-color);\n",
              "    box-shadow: none;\n",
              "  }\n",
              "\n",
              "  .colab-df-spinner {\n",
              "    border: 2px solid var(--fill-color);\n",
              "    border-color: transparent;\n",
              "    border-bottom-color: var(--fill-color);\n",
              "    animation:\n",
              "      spin 1s steps(1) infinite;\n",
              "  }\n",
              "\n",
              "  @keyframes spin {\n",
              "    0% {\n",
              "      border-color: transparent;\n",
              "      border-bottom-color: var(--fill-color);\n",
              "      border-left-color: var(--fill-color);\n",
              "    }\n",
              "    20% {\n",
              "      border-color: transparent;\n",
              "      border-left-color: var(--fill-color);\n",
              "      border-top-color: var(--fill-color);\n",
              "    }\n",
              "    30% {\n",
              "      border-color: transparent;\n",
              "      border-left-color: var(--fill-color);\n",
              "      border-top-color: var(--fill-color);\n",
              "      border-right-color: var(--fill-color);\n",
              "    }\n",
              "    40% {\n",
              "      border-color: transparent;\n",
              "      border-right-color: var(--fill-color);\n",
              "      border-top-color: var(--fill-color);\n",
              "    }\n",
              "    60% {\n",
              "      border-color: transparent;\n",
              "      border-right-color: var(--fill-color);\n",
              "    }\n",
              "    80% {\n",
              "      border-color: transparent;\n",
              "      border-right-color: var(--fill-color);\n",
              "      border-bottom-color: var(--fill-color);\n",
              "    }\n",
              "    90% {\n",
              "      border-color: transparent;\n",
              "      border-bottom-color: var(--fill-color);\n",
              "    }\n",
              "  }\n",
              "</style>\n",
              "\n",
              "  <script>\n",
              "    async function quickchart(key) {\n",
              "      const quickchartButtonEl =\n",
              "        document.querySelector('#' + key + ' button');\n",
              "      quickchartButtonEl.disabled = true;  // To prevent multiple clicks.\n",
              "      quickchartButtonEl.classList.add('colab-df-spinner');\n",
              "      try {\n",
              "        const charts = await google.colab.kernel.invokeFunction(\n",
              "            'suggestCharts', [key], {});\n",
              "      } catch (error) {\n",
              "        console.error('Error during call to suggestCharts:', error);\n",
              "      }\n",
              "      quickchartButtonEl.classList.remove('colab-df-spinner');\n",
              "      quickchartButtonEl.classList.add('colab-df-quickchart-complete');\n",
              "    }\n",
              "    (() => {\n",
              "      let quickchartButtonEl =\n",
              "        document.querySelector('#df-36278d13-189f-4536-a30c-5b5a2b6aea68 button');\n",
              "      quickchartButtonEl.style.display =\n",
              "        google.colab.kernel.accessAllowed ? 'block' : 'none';\n",
              "    })();\n",
              "  </script>\n",
              "</div>\n",
              "\n",
              "    </div>\n",
              "  </div>\n"
            ]
          },
          "metadata": {},
          "execution_count": 7
        }
      ],
      "source": [
        "train=pd.DataFrame()\n",
        "train['image'],train['label']=load_dataset(TRAIN_DIR)\n",
        "\n",
        "#shuffle dataset\n",
        "train=train.sample(frac=1).reset_index(drop=True)\n",
        "train.head()"
      ]
    },
    {
      "cell_type": "markdown",
      "metadata": {
        "id": "7SjwBTrncCR9"
      },
      "source": [
        "Initializing Test Dataframe"
      ]
    },
    {
      "cell_type": "code",
      "execution_count": 11,
      "metadata": {
        "id": "5AcfdxHgcCR9",
        "outputId": "b22c2086-6e4a-408a-a74f-0382467a9f67",
        "colab": {
          "base_uri": "https://localhost:8080/",
          "height": 327
        }
      },
      "outputs": [
        {
          "output_type": "stream",
          "name": "stdout",
          "text": [
            "angry completed\n",
            "disgust completed\n",
            "fear completed\n",
            "happy completed\n",
            "neutral completed\n",
            "sad completed\n",
            "surprise completed\n"
          ]
        },
        {
          "output_type": "execute_result",
          "data": {
            "text/plain": [
              "                                               image  label\n",
              "0  /content/drive/MyDrive/dataset/FER/test/angry/...  angry\n",
              "1  /content/drive/MyDrive/dataset/FER/test/angry/...  angry\n",
              "2  /content/drive/MyDrive/dataset/FER/test/angry/...  angry\n",
              "3  /content/drive/MyDrive/dataset/FER/test/angry/...  angry\n",
              "4  /content/drive/MyDrive/dataset/FER/test/angry/...  angry"
            ],
            "text/html": [
              "\n",
              "  <div id=\"df-abb3c84e-7c9d-439b-8410-077db5f97297\" class=\"colab-df-container\">\n",
              "    <div>\n",
              "<style scoped>\n",
              "    .dataframe tbody tr th:only-of-type {\n",
              "        vertical-align: middle;\n",
              "    }\n",
              "\n",
              "    .dataframe tbody tr th {\n",
              "        vertical-align: top;\n",
              "    }\n",
              "\n",
              "    .dataframe thead th {\n",
              "        text-align: right;\n",
              "    }\n",
              "</style>\n",
              "<table border=\"1\" class=\"dataframe\">\n",
              "  <thead>\n",
              "    <tr style=\"text-align: right;\">\n",
              "      <th></th>\n",
              "      <th>image</th>\n",
              "      <th>label</th>\n",
              "    </tr>\n",
              "  </thead>\n",
              "  <tbody>\n",
              "    <tr>\n",
              "      <th>0</th>\n",
              "      <td>/content/drive/MyDrive/dataset/FER/test/angry/...</td>\n",
              "      <td>angry</td>\n",
              "    </tr>\n",
              "    <tr>\n",
              "      <th>1</th>\n",
              "      <td>/content/drive/MyDrive/dataset/FER/test/angry/...</td>\n",
              "      <td>angry</td>\n",
              "    </tr>\n",
              "    <tr>\n",
              "      <th>2</th>\n",
              "      <td>/content/drive/MyDrive/dataset/FER/test/angry/...</td>\n",
              "      <td>angry</td>\n",
              "    </tr>\n",
              "    <tr>\n",
              "      <th>3</th>\n",
              "      <td>/content/drive/MyDrive/dataset/FER/test/angry/...</td>\n",
              "      <td>angry</td>\n",
              "    </tr>\n",
              "    <tr>\n",
              "      <th>4</th>\n",
              "      <td>/content/drive/MyDrive/dataset/FER/test/angry/...</td>\n",
              "      <td>angry</td>\n",
              "    </tr>\n",
              "  </tbody>\n",
              "</table>\n",
              "</div>\n",
              "    <div class=\"colab-df-buttons\">\n",
              "\n",
              "  <div class=\"colab-df-container\">\n",
              "    <button class=\"colab-df-convert\" onclick=\"convertToInteractive('df-abb3c84e-7c9d-439b-8410-077db5f97297')\"\n",
              "            title=\"Convert this dataframe to an interactive table.\"\n",
              "            style=\"display:none;\">\n",
              "\n",
              "  <svg xmlns=\"http://www.w3.org/2000/svg\" height=\"24px\" viewBox=\"0 -960 960 960\">\n",
              "    <path d=\"M120-120v-720h720v720H120Zm60-500h600v-160H180v160Zm220 220h160v-160H400v160Zm0 220h160v-160H400v160ZM180-400h160v-160H180v160Zm440 0h160v-160H620v160ZM180-180h160v-160H180v160Zm440 0h160v-160H620v160Z\"/>\n",
              "  </svg>\n",
              "    </button>\n",
              "\n",
              "  <style>\n",
              "    .colab-df-container {\n",
              "      display:flex;\n",
              "      gap: 12px;\n",
              "    }\n",
              "\n",
              "    .colab-df-convert {\n",
              "      background-color: #E8F0FE;\n",
              "      border: none;\n",
              "      border-radius: 50%;\n",
              "      cursor: pointer;\n",
              "      display: none;\n",
              "      fill: #1967D2;\n",
              "      height: 32px;\n",
              "      padding: 0 0 0 0;\n",
              "      width: 32px;\n",
              "    }\n",
              "\n",
              "    .colab-df-convert:hover {\n",
              "      background-color: #E2EBFA;\n",
              "      box-shadow: 0px 1px 2px rgba(60, 64, 67, 0.3), 0px 1px 3px 1px rgba(60, 64, 67, 0.15);\n",
              "      fill: #174EA6;\n",
              "    }\n",
              "\n",
              "    .colab-df-buttons div {\n",
              "      margin-bottom: 4px;\n",
              "    }\n",
              "\n",
              "    [theme=dark] .colab-df-convert {\n",
              "      background-color: #3B4455;\n",
              "      fill: #D2E3FC;\n",
              "    }\n",
              "\n",
              "    [theme=dark] .colab-df-convert:hover {\n",
              "      background-color: #434B5C;\n",
              "      box-shadow: 0px 1px 3px 1px rgba(0, 0, 0, 0.15);\n",
              "      filter: drop-shadow(0px 1px 2px rgba(0, 0, 0, 0.3));\n",
              "      fill: #FFFFFF;\n",
              "    }\n",
              "  </style>\n",
              "\n",
              "    <script>\n",
              "      const buttonEl =\n",
              "        document.querySelector('#df-abb3c84e-7c9d-439b-8410-077db5f97297 button.colab-df-convert');\n",
              "      buttonEl.style.display =\n",
              "        google.colab.kernel.accessAllowed ? 'block' : 'none';\n",
              "\n",
              "      async function convertToInteractive(key) {\n",
              "        const element = document.querySelector('#df-abb3c84e-7c9d-439b-8410-077db5f97297');\n",
              "        const dataTable =\n",
              "          await google.colab.kernel.invokeFunction('convertToInteractive',\n",
              "                                                    [key], {});\n",
              "        if (!dataTable) return;\n",
              "\n",
              "        const docLinkHtml = 'Like what you see? Visit the ' +\n",
              "          '<a target=\"_blank\" href=https://colab.research.google.com/notebooks/data_table.ipynb>data table notebook</a>'\n",
              "          + ' to learn more about interactive tables.';\n",
              "        element.innerHTML = '';\n",
              "        dataTable['output_type'] = 'display_data';\n",
              "        await google.colab.output.renderOutput(dataTable, element);\n",
              "        const docLink = document.createElement('div');\n",
              "        docLink.innerHTML = docLinkHtml;\n",
              "        element.appendChild(docLink);\n",
              "      }\n",
              "    </script>\n",
              "  </div>\n",
              "\n",
              "\n",
              "<div id=\"df-1b70aee9-45ea-4037-b410-20196c77378b\">\n",
              "  <button class=\"colab-df-quickchart\" onclick=\"quickchart('df-1b70aee9-45ea-4037-b410-20196c77378b')\"\n",
              "            title=\"Suggest charts\"\n",
              "            style=\"display:none;\">\n",
              "\n",
              "<svg xmlns=\"http://www.w3.org/2000/svg\" height=\"24px\"viewBox=\"0 0 24 24\"\n",
              "     width=\"24px\">\n",
              "    <g>\n",
              "        <path d=\"M19 3H5c-1.1 0-2 .9-2 2v14c0 1.1.9 2 2 2h14c1.1 0 2-.9 2-2V5c0-1.1-.9-2-2-2zM9 17H7v-7h2v7zm4 0h-2V7h2v10zm4 0h-2v-4h2v4z\"/>\n",
              "    </g>\n",
              "</svg>\n",
              "  </button>\n",
              "\n",
              "<style>\n",
              "  .colab-df-quickchart {\n",
              "      --bg-color: #E8F0FE;\n",
              "      --fill-color: #1967D2;\n",
              "      --hover-bg-color: #E2EBFA;\n",
              "      --hover-fill-color: #174EA6;\n",
              "      --disabled-fill-color: #AAA;\n",
              "      --disabled-bg-color: #DDD;\n",
              "  }\n",
              "\n",
              "  [theme=dark] .colab-df-quickchart {\n",
              "      --bg-color: #3B4455;\n",
              "      --fill-color: #D2E3FC;\n",
              "      --hover-bg-color: #434B5C;\n",
              "      --hover-fill-color: #FFFFFF;\n",
              "      --disabled-bg-color: #3B4455;\n",
              "      --disabled-fill-color: #666;\n",
              "  }\n",
              "\n",
              "  .colab-df-quickchart {\n",
              "    background-color: var(--bg-color);\n",
              "    border: none;\n",
              "    border-radius: 50%;\n",
              "    cursor: pointer;\n",
              "    display: none;\n",
              "    fill: var(--fill-color);\n",
              "    height: 32px;\n",
              "    padding: 0;\n",
              "    width: 32px;\n",
              "  }\n",
              "\n",
              "  .colab-df-quickchart:hover {\n",
              "    background-color: var(--hover-bg-color);\n",
              "    box-shadow: 0 1px 2px rgba(60, 64, 67, 0.3), 0 1px 3px 1px rgba(60, 64, 67, 0.15);\n",
              "    fill: var(--button-hover-fill-color);\n",
              "  }\n",
              "\n",
              "  .colab-df-quickchart-complete:disabled,\n",
              "  .colab-df-quickchart-complete:disabled:hover {\n",
              "    background-color: var(--disabled-bg-color);\n",
              "    fill: var(--disabled-fill-color);\n",
              "    box-shadow: none;\n",
              "  }\n",
              "\n",
              "  .colab-df-spinner {\n",
              "    border: 2px solid var(--fill-color);\n",
              "    border-color: transparent;\n",
              "    border-bottom-color: var(--fill-color);\n",
              "    animation:\n",
              "      spin 1s steps(1) infinite;\n",
              "  }\n",
              "\n",
              "  @keyframes spin {\n",
              "    0% {\n",
              "      border-color: transparent;\n",
              "      border-bottom-color: var(--fill-color);\n",
              "      border-left-color: var(--fill-color);\n",
              "    }\n",
              "    20% {\n",
              "      border-color: transparent;\n",
              "      border-left-color: var(--fill-color);\n",
              "      border-top-color: var(--fill-color);\n",
              "    }\n",
              "    30% {\n",
              "      border-color: transparent;\n",
              "      border-left-color: var(--fill-color);\n",
              "      border-top-color: var(--fill-color);\n",
              "      border-right-color: var(--fill-color);\n",
              "    }\n",
              "    40% {\n",
              "      border-color: transparent;\n",
              "      border-right-color: var(--fill-color);\n",
              "      border-top-color: var(--fill-color);\n",
              "    }\n",
              "    60% {\n",
              "      border-color: transparent;\n",
              "      border-right-color: var(--fill-color);\n",
              "    }\n",
              "    80% {\n",
              "      border-color: transparent;\n",
              "      border-right-color: var(--fill-color);\n",
              "      border-bottom-color: var(--fill-color);\n",
              "    }\n",
              "    90% {\n",
              "      border-color: transparent;\n",
              "      border-bottom-color: var(--fill-color);\n",
              "    }\n",
              "  }\n",
              "</style>\n",
              "\n",
              "  <script>\n",
              "    async function quickchart(key) {\n",
              "      const quickchartButtonEl =\n",
              "        document.querySelector('#' + key + ' button');\n",
              "      quickchartButtonEl.disabled = true;  // To prevent multiple clicks.\n",
              "      quickchartButtonEl.classList.add('colab-df-spinner');\n",
              "      try {\n",
              "        const charts = await google.colab.kernel.invokeFunction(\n",
              "            'suggestCharts', [key], {});\n",
              "      } catch (error) {\n",
              "        console.error('Error during call to suggestCharts:', error);\n",
              "      }\n",
              "      quickchartButtonEl.classList.remove('colab-df-spinner');\n",
              "      quickchartButtonEl.classList.add('colab-df-quickchart-complete');\n",
              "    }\n",
              "    (() => {\n",
              "      let quickchartButtonEl =\n",
              "        document.querySelector('#df-1b70aee9-45ea-4037-b410-20196c77378b button');\n",
              "      quickchartButtonEl.style.display =\n",
              "        google.colab.kernel.accessAllowed ? 'block' : 'none';\n",
              "    })();\n",
              "  </script>\n",
              "</div>\n",
              "\n",
              "    </div>\n",
              "  </div>\n"
            ]
          },
          "metadata": {},
          "execution_count": 11
        }
      ],
      "source": [
        "test=pd.DataFrame()\n",
        "test['image'],test['label']=load_dataset(TEST_DIR)\n",
        "test.head()"
      ]
    },
    {
      "cell_type": "code",
      "source": [
        "test.to_pickle(\"/content/drive/MyDrive/dataset/FER/test.pkl\")\n",
        "train.to_pickle(\"/content/drive/MyDrive/dataset/FER/train.pkl\")"
      ],
      "metadata": {
        "id": "uEsRaREik13U"
      },
      "execution_count": 12,
      "outputs": []
    },
    {
      "cell_type": "markdown",
      "metadata": {
        "id": "uI6KHh4pcCSA"
      },
      "source": [
        "Exploratory Data Analysis"
      ]
    },
    {
      "cell_type": "code",
      "execution_count": 13,
      "metadata": {
        "id": "ykOyghGVcCSA",
        "outputId": "b649e117-ab9f-459d-e726-42f18c6c9489",
        "colab": {
          "base_uri": "https://localhost:8080/",
          "height": 466
        }
      },
      "outputs": [
        {
          "output_type": "execute_result",
          "data": {
            "text/plain": [
              "<Axes: xlabel='label', ylabel='count'>"
            ]
          },
          "metadata": {},
          "execution_count": 13
        },
        {
          "output_type": "display_data",
          "data": {
            "text/plain": [
              "<Figure size 640x480 with 1 Axes>"
            ],
            "image/png": "[encoded data removed]"
          },
          "metadata": {}
        }
      ],
      "source": [
        "sns.countplot(x=train['label'])"
      ]
    },
    {
      "cell_type": "markdown",
      "metadata": {
        "id": "EvLsVq_TcCSG"
      },
      "source": [
        "Feature Extraction"
      ]
    },
    {
      "cell_type": "code",
      "execution_count": 16,
      "metadata": {
        "id": "vjDN0uDYcCSG"
      },
      "outputs": [],
      "source": [
        "def extract_features(images):\n",
        "    features=[]\n",
        "    for image in tqdm(images):\n",
        "        img=load_img(image,grayscale=True)\n",
        "        img=np.array(img)\n",
        "        features.append(img)\n",
        "    features=np.array(features)\n",
        "    features=features.reshape(len(features),48,48,1)\n",
        "    ''' reshaping in different shape to feed in model:\n",
        "    48,48 being dimension of image\n",
        "    & 1= layers of color.. 1 in grayscale and 3 in rgb\n",
        "    '''\n",
        "    return features\n",
        "\n"
      ]
    },
    {
      "cell_type": "code",
      "execution_count": 17,
      "metadata": {
        "id": "gJwh4h_ScCSH",
        "outputId": "3c2c3446-cbce-47c5-e4ed-6afd078ca938",
        "colab": {
          "referenced_widgets": [
            "cb1dd184a33249d8804be41bc144253c",
            "a68fc8328a6e4abe864c617753666ab6",
            "01f3c06db2f74ae7ac05499fc8713318",
            "f9463183e49448faaaddaf9031b5222c",
            "aaa3ac379b2d4961885322b716a9a9a5",
            "cd761d3cc967409e8c3573673e23ffba",
            "17c77889e98b4559875038e132493cbf",
            "fb009b9daa804e98b7a19b590b7fa819",
            "b9516e2433b24f3280b00474e042746f",
            "6bed2415247b4da4bcdb8686ff71e5c0",
            "667ce8e136af4adaa9e8073cf422c2e8"
          ],
          "base_uri": "https://localhost:8080/",
          "height": 49
        }
      },
      "outputs": [
        {
          "output_type": "display_data",
          "data": {
            "text/plain": [
              "  0%|          | 0/7178 [00:00<?, ?it/s]"
            ],
            "application/vnd.jupyter.widget-view+json": {
              "version_major": 2,
              "version_minor": 0,
              "model_id": "cb1dd184a33249d8804be41bc144253c"
            }
          },
          "metadata": {}
        }
      ],
      "source": [
        "train_features=extract_features(train['image'])"
      ]
    },
    {
      "cell_type": "code",
      "execution_count": 18,
      "metadata": {
        "id": "4RpA_IT9cCSI",
        "outputId": "1f06444a-f5b8-44a1-9584-8f0915ae1367",
        "colab": {
          "referenced_widgets": [
            "1f851ed450164c14a36769e324973378",
            "9cc5939a5ffd477fbdf37b5d2d6fe027",
            "c76f1310350446baa3b91be97cf84e11",
            "9ea140493beb4588939ad2b1cbcbcef5",
            "635dae6bf3364b4f8ecad95b953ee589",
            "22d384965725417c934fcebd07cbbf70",
            "be15ea9fb5ec42f7b2bd9332ffe8a5f1",
            "a04e54afeb8c404fa76b59fa45b5a389",
            "9888dd1daa404dff802acda450b9a53d",
            "aed967a8201b47458100e50a044d422e",
            "dcc44770e49a45d6a4963c33446a550b"
          ],
          "base_uri": "https://localhost:8080/",
          "height": 49
        }
      },
      "outputs": [
        {
          "output_type": "display_data",
          "data": {
            "text/plain": [
              "  0%|          | 0/7178 [00:00<?, ?it/s]"
            ],
            "application/vnd.jupyter.widget-view+json": {
              "version_major": 2,
              "version_minor": 0,
              "model_id": "1f851ed450164c14a36769e324973378"
            }
          },
          "metadata": {}
        }
      ],
      "source": [
        "test_features=extract_features(test['image'])"
      ]
    },
    {
      "cell_type": "code",
      "execution_count": 19,
      "metadata": {
        "id": "-H6iHSCHcCSI"
      },
      "outputs": [],
      "source": [
        "#normalize the image\n",
        "x_train=train_features/255.0\n",
        "x_test=test_features/255.0\n",
        "#to normalize data b/w 0 & 1 for better calculation in NN"
      ]
    },
    {
      "cell_type": "markdown",
      "source": [],
      "metadata": {
        "id": "Sy6QurRozEG5"
      }
    },
    {
      "cell_type": "code",
      "execution_count": 22,
      "metadata": {
        "id": "gtZDMipicCSJ"
      },
      "outputs": [],
      "source": [
        "#convert label to integer\n",
        "#label encoding is used\n",
        "\n",
        "from sklearn.preprocessing import LabelEncoder\n",
        "le=LabelEncoder()\n",
        "le.fit(train['label'])\n",
        "y_train=le.transform(train['label'])\n",
        "y_test=le.transform(test['label'])"
      ]
    },
    {
      "cell_type": "code",
      "execution_count": 23,
      "metadata": {
        "id": "D1aA5otTcCSJ"
      },
      "outputs": [],
      "source": [
        "y_train=to_categorical(y_train,num_classes=7)\n",
        "y_test=to_categorical(y_test,num_classes=7)"
      ]
    },
    {
      "cell_type": "markdown",
      "metadata": {
        "id": "4wP1afJccCSJ"
      },
      "source": [
        "Configuration"
      ]
    },
    {
      "cell_type": "code",
      "execution_count": 24,
      "metadata": {
        "id": "qAH7w5RWcCSJ"
      },
      "outputs": [],
      "source": [
        "input_shape=(48,48,1)\n",
        "output_class=7"
      ]
    },
    {
      "cell_type": "markdown",
      "metadata": {
        "id": "FEwdX6DFcCSJ"
      },
      "source": [
        "Model Creation"
      ]
    },
    {
      "cell_type": "code",
      "execution_count": 43,
      "metadata": {
        "id": "u4UPizlLcCSK"
      },
      "outputs": [],
      "source": [
        "model=Sequential()\n",
        "#convolutional layer\n",
        "model.add(Conv2D(128,kernel_size=(3,3),activation=\"relu\",input_shape=input_shape))\n",
        "model.add(Dropout(0.3))\n",
        "\n",
        "model.add(Conv2D(256,kernel_size=(3,3),activation=\"relu\",input_shape=input_shape))\n",
        "model.add(MaxPool2D(pool_size=(2,2)))\n",
        "model.add(Dropout(0.3))\n",
        "\n",
        "model.add(Conv2D(512,kernel_size=(3,3),activation=\"relu\",input_shape=input_shape))\n",
        "model.add(Dropout(0.3))\n",
        "\n",
        "model.add(Conv2D(512,kernel_size=(3,3),activation=\"relu\",input_shape=input_shape))\n",
        "model.add(MaxPool2D(pool_size=(2,2)))\n",
        "model.add(Dropout(0.3))\n",
        "\n",
        "\n",
        "model.add(Flatten())\n",
        "\n",
        "#fully connected layers\n",
        "model.add(Dense(512,activation='relu'))\n",
        "model.add(Dropout(0.2))\n",
        "\n",
        "model.add(Dense(128,activation='relu'))\n",
        "model.add(Dropout(0.2))\n",
        "\n",
        "#output layer\n",
        "model.add(Dense(output_class,activation='softmax'))\n",
        "\n",
        "model.compile(optimizer='adam',loss='categorical_crossentropy',metrics='accuracy')"
      ]
    },
    {
      "cell_type": "markdown",
      "metadata": {
        "id": "LY5ZZRdscCSK"
      },
      "source": [
        "Training Model"
      ]
    },
    {
      "cell_type": "code",
      "execution_count": 44,
      "metadata": {
        "id": "qptxrDBFcCSK",
        "outputId": "16cb65cf-3e95-4e61-86a3-71bf1e4ff9d7",
        "colab": {
          "base_uri": "https://localhost:8080/"
        }
      },
      "outputs": [
        {
          "output_type": "stream",
          "name": "stdout",
          "text": [
            "Epoch 1/100\n",
            "57/57 [==============================] - 17s 247ms/step - loss: 1.8915 - accuracy: 0.2240 - val_loss: 1.8173 - val_accuracy: 0.2471\n",
            "Epoch 2/100\n",
            "57/57 [==============================] - 16s 281ms/step - loss: 1.8239 - accuracy: 0.2407 - val_loss: 1.8141 - val_accuracy: 0.2471\n",
            "Epoch 3/100\n",
            "57/57 [==============================] - 16s 282ms/step - loss: 1.8163 - accuracy: 0.2464 - val_loss: 1.7970 - val_accuracy: 0.2497\n",
            "Epoch 4/100\n",
            "57/57 [==============================] - 16s 282ms/step - loss: 1.7983 - accuracy: 0.2590 - val_loss: 1.7326 - val_accuracy: 0.2940\n",
            "Epoch 5/100\n",
            "57/57 [==============================] - 16s 284ms/step - loss: 1.7222 - accuracy: 0.3075 - val_loss: 1.6559 - val_accuracy: 0.3256\n",
            "Epoch 6/100\n",
            "57/57 [==============================] - 16s 285ms/step - loss: 1.6570 - accuracy: 0.3466 - val_loss: 1.5545 - val_accuracy: 0.4016\n",
            "Epoch 7/100\n",
            "57/57 [==============================] - 16s 285ms/step - loss: 1.5890 - accuracy: 0.3858 - val_loss: 1.4845 - val_accuracy: 0.4285\n",
            "Epoch 8/100\n",
            "57/57 [==============================] - 16s 287ms/step - loss: 1.5301 - accuracy: 0.4122 - val_loss: 1.4320 - val_accuracy: 0.4641\n",
            "Epoch 9/100\n",
            "57/57 [==============================] - 16s 285ms/step - loss: 1.4539 - accuracy: 0.4393 - val_loss: 1.3514 - val_accuracy: 0.5138\n",
            "Epoch 10/100\n",
            "57/57 [==============================] - 14s 244ms/step - loss: 1.3806 - accuracy: 0.4728 - val_loss: 1.2139 - val_accuracy: 0.5463\n",
            "Epoch 11/100\n",
            "57/57 [==============================] - 16s 286ms/step - loss: 1.3001 - accuracy: 0.5096 - val_loss: 1.0906 - val_accuracy: 0.5848\n",
            "Epoch 12/100\n",
            "57/57 [==============================] - 16s 287ms/step - loss: 1.2220 - accuracy: 0.5357 - val_loss: 1.0120 - val_accuracy: 0.6591\n",
            "Epoch 13/100\n",
            "57/57 [==============================] - 16s 287ms/step - loss: 1.1400 - accuracy: 0.5751 - val_loss: 0.8751 - val_accuracy: 0.6981\n",
            "Epoch 14/100\n",
            "57/57 [==============================] - 16s 287ms/step - loss: 1.0398 - accuracy: 0.6135 - val_loss: 0.7829 - val_accuracy: 0.7354\n",
            "Epoch 15/100\n",
            "57/57 [==============================] - 14s 245ms/step - loss: 0.9486 - accuracy: 0.6439 - val_loss: 0.6311 - val_accuracy: 0.8058\n",
            "Epoch 16/100\n",
            "57/57 [==============================] - 14s 245ms/step - loss: 0.8778 - accuracy: 0.6722 - val_loss: 0.5071 - val_accuracy: 0.8349\n",
            "Epoch 17/100\n",
            "57/57 [==============================] - 16s 287ms/step - loss: 0.7551 - accuracy: 0.7179 - val_loss: 0.4464 - val_accuracy: 0.8675\n",
            "Epoch 18/100\n",
            "57/57 [==============================] - 16s 288ms/step - loss: 0.6959 - accuracy: 0.7442 - val_loss: 0.3501 - val_accuracy: 0.9082\n",
            "Epoch 19/100\n",
            "57/57 [==============================] - 16s 287ms/step - loss: 0.6251 - accuracy: 0.7705 - val_loss: 0.2635 - val_accuracy: 0.9319\n",
            "Epoch 20/100\n",
            "57/57 [==============================] - 14s 245ms/step - loss: 0.5763 - accuracy: 0.7970 - val_loss: 0.2660 - val_accuracy: 0.9315\n",
            "Epoch 21/100\n",
            "57/57 [==============================] - 16s 288ms/step - loss: 0.5170 - accuracy: 0.8115 - val_loss: 0.1858 - val_accuracy: 0.9606\n",
            "Epoch 22/100\n",
            "57/57 [==============================] - 16s 288ms/step - loss: 0.4865 - accuracy: 0.8235 - val_loss: 0.1637 - val_accuracy: 0.9618\n",
            "Epoch 23/100\n",
            "57/57 [==============================] - 14s 246ms/step - loss: 0.4239 - accuracy: 0.8445 - val_loss: 0.1294 - val_accuracy: 0.9726\n",
            "Epoch 24/100\n",
            "57/57 [==============================] - 14s 246ms/step - loss: 0.4021 - accuracy: 0.8579 - val_loss: 0.1152 - val_accuracy: 0.9791\n",
            "Epoch 25/100\n",
            "57/57 [==============================] - 14s 247ms/step - loss: 0.3744 - accuracy: 0.8689 - val_loss: 0.1002 - val_accuracy: 0.9823\n",
            "Epoch 26/100\n",
            "57/57 [==============================] - 16s 289ms/step - loss: 0.3361 - accuracy: 0.8824 - val_loss: 0.0836 - val_accuracy: 0.9851\n",
            "Epoch 27/100\n",
            "57/57 [==============================] - 14s 246ms/step - loss: 0.3232 - accuracy: 0.8851 - val_loss: 0.0767 - val_accuracy: 0.9869\n",
            "Epoch 28/100\n",
            "57/57 [==============================] - 14s 247ms/step - loss: 0.2927 - accuracy: 0.8983 - val_loss: 0.0530 - val_accuracy: 0.9897\n",
            "Epoch 29/100\n",
            "57/57 [==============================] - 14s 250ms/step - loss: 0.2944 - accuracy: 0.8963 - val_loss: 0.0531 - val_accuracy: 0.9904\n",
            "Epoch 30/100\n",
            "57/57 [==============================] - 14s 254ms/step - loss: 0.2604 - accuracy: 0.9114 - val_loss: 0.0448 - val_accuracy: 0.9935\n",
            "Epoch 31/100\n",
            "57/57 [==============================] - 17s 292ms/step - loss: 0.2489 - accuracy: 0.9166 - val_loss: 0.0394 - val_accuracy: 0.9957\n",
            "Epoch 32/100\n",
            "57/57 [==============================] - 17s 291ms/step - loss: 0.2268 - accuracy: 0.9237 - val_loss: 0.0347 - val_accuracy: 0.9960\n",
            "Epoch 33/100\n",
            "57/57 [==============================] - 17s 292ms/step - loss: 0.2190 - accuracy: 0.9249 - val_loss: 0.0271 - val_accuracy: 0.9964\n",
            "Epoch 34/100\n",
            "57/57 [==============================] - 17s 291ms/step - loss: 0.2027 - accuracy: 0.9331 - val_loss: 0.0260 - val_accuracy: 0.9964\n",
            "Epoch 35/100\n",
            "57/57 [==============================] - 14s 252ms/step - loss: 0.2029 - accuracy: 0.9312 - val_loss: 0.0222 - val_accuracy: 0.9967\n",
            "Epoch 36/100\n",
            "57/57 [==============================] - 16s 291ms/step - loss: 0.2184 - accuracy: 0.9276 - val_loss: 0.0198 - val_accuracy: 0.9975\n",
            "Epoch 37/100\n",
            "57/57 [==============================] - 17s 291ms/step - loss: 0.2052 - accuracy: 0.9291 - val_loss: 0.0213 - val_accuracy: 0.9965\n",
            "Epoch 38/100\n",
            "57/57 [==============================] - 14s 250ms/step - loss: 0.1840 - accuracy: 0.9391 - val_loss: 0.0277 - val_accuracy: 0.9951\n",
            "Epoch 39/100\n",
            "57/57 [==============================] - 14s 253ms/step - loss: 0.1797 - accuracy: 0.9381 - val_loss: 0.0151 - val_accuracy: 0.9975\n",
            "Epoch 40/100\n",
            "57/57 [==============================] - 14s 251ms/step - loss: 0.1607 - accuracy: 0.9441 - val_loss: 0.0140 - val_accuracy: 0.9979\n",
            "Epoch 41/100\n",
            "57/57 [==============================] - 14s 252ms/step - loss: 0.1694 - accuracy: 0.9413 - val_loss: 0.0138 - val_accuracy: 0.9978\n",
            "Epoch 42/100\n",
            "57/57 [==============================] - 14s 250ms/step - loss: 0.1730 - accuracy: 0.9407 - val_loss: 0.0171 - val_accuracy: 0.9979\n",
            "Epoch 43/100\n",
            "57/57 [==============================] - 17s 291ms/step - loss: 0.1607 - accuracy: 0.9458 - val_loss: 0.0123 - val_accuracy: 0.9982\n",
            "Epoch 44/100\n",
            "57/57 [==============================] - 14s 251ms/step - loss: 0.1570 - accuracy: 0.9459 - val_loss: 0.0114 - val_accuracy: 0.9985\n",
            "Epoch 45/100\n",
            "57/57 [==============================] - 17s 292ms/step - loss: 0.1515 - accuracy: 0.9482 - val_loss: 0.0098 - val_accuracy: 0.9982\n",
            "Epoch 46/100\n",
            "57/57 [==============================] - 14s 251ms/step - loss: 0.1379 - accuracy: 0.9528 - val_loss: 0.0089 - val_accuracy: 0.9985\n",
            "Epoch 47/100\n",
            "57/57 [==============================] - 17s 291ms/step - loss: 0.1434 - accuracy: 0.9508 - val_loss: 0.0085 - val_accuracy: 0.9987\n",
            "Epoch 48/100\n",
            "57/57 [==============================] - 14s 251ms/step - loss: 0.1300 - accuracy: 0.9526 - val_loss: 0.0067 - val_accuracy: 0.9983\n",
            "Epoch 49/100\n",
            "57/57 [==============================] - 14s 250ms/step - loss: 0.1458 - accuracy: 0.9514 - val_loss: 0.0082 - val_accuracy: 0.9986\n",
            "Epoch 50/100\n",
            "57/57 [==============================] - 14s 251ms/step - loss: 0.1164 - accuracy: 0.9611 - val_loss: 0.0063 - val_accuracy: 0.9985\n",
            "Epoch 51/100\n",
            "57/57 [==============================] - 14s 251ms/step - loss: 0.1176 - accuracy: 0.9620 - val_loss: 0.0055 - val_accuracy: 0.9987\n",
            "Epoch 52/100\n",
            "57/57 [==============================] - 16s 291ms/step - loss: 0.1382 - accuracy: 0.9550 - val_loss: 0.0085 - val_accuracy: 0.9980\n",
            "Epoch 53/100\n",
            "57/57 [==============================] - 14s 250ms/step - loss: 0.1189 - accuracy: 0.9624 - val_loss: 0.0067 - val_accuracy: 0.9986\n",
            "Epoch 54/100\n",
            "57/57 [==============================] - 16s 291ms/step - loss: 0.1187 - accuracy: 0.9624 - val_loss: 0.0051 - val_accuracy: 0.9987\n",
            "Epoch 55/100\n",
            "57/57 [==============================] - 14s 251ms/step - loss: 0.1211 - accuracy: 0.9572 - val_loss: 0.0054 - val_accuracy: 0.9986\n",
            "Epoch 56/100\n",
            "57/57 [==============================] - 14s 250ms/step - loss: 0.1236 - accuracy: 0.9583 - val_loss: 0.0091 - val_accuracy: 0.9982\n",
            "Epoch 57/100\n",
            "57/57 [==============================] - 17s 291ms/step - loss: 0.1851 - accuracy: 0.9394 - val_loss: 0.0076 - val_accuracy: 0.9980\n",
            "Epoch 58/100\n",
            "57/57 [==============================] - 16s 290ms/step - loss: 0.1187 - accuracy: 0.9592 - val_loss: 0.0059 - val_accuracy: 0.9983\n",
            "Epoch 59/100\n",
            "57/57 [==============================] - 17s 291ms/step - loss: 0.1069 - accuracy: 0.9636 - val_loss: 0.0054 - val_accuracy: 0.9987\n",
            "Epoch 60/100\n",
            "57/57 [==============================] - 14s 251ms/step - loss: 0.1112 - accuracy: 0.9638 - val_loss: 0.0058 - val_accuracy: 0.9989\n",
            "Epoch 61/100\n",
            "57/57 [==============================] - 17s 292ms/step - loss: 0.1051 - accuracy: 0.9638 - val_loss: 0.0056 - val_accuracy: 0.9982\n",
            "Epoch 62/100\n",
            "57/57 [==============================] - 17s 291ms/step - loss: 0.1100 - accuracy: 0.9638 - val_loss: 0.0063 - val_accuracy: 0.9983\n",
            "Epoch 63/100\n",
            "57/57 [==============================] - 14s 250ms/step - loss: 0.1266 - accuracy: 0.9607 - val_loss: 0.0056 - val_accuracy: 0.9986\n",
            "Epoch 64/100\n",
            "57/57 [==============================] - 16s 291ms/step - loss: 0.1085 - accuracy: 0.9642 - val_loss: 0.0052 - val_accuracy: 0.9983\n",
            "Epoch 65/100\n",
            "57/57 [==============================] - 17s 291ms/step - loss: 0.0937 - accuracy: 0.9702 - val_loss: 0.0040 - val_accuracy: 0.9986\n",
            "Epoch 66/100\n",
            "57/57 [==============================] - 17s 291ms/step - loss: 0.0967 - accuracy: 0.9674 - val_loss: 0.0043 - val_accuracy: 0.9986\n",
            "Epoch 67/100\n",
            "57/57 [==============================] - 14s 251ms/step - loss: 0.1043 - accuracy: 0.9652 - val_loss: 0.0044 - val_accuracy: 0.9989\n",
            "Epoch 68/100\n",
            "57/57 [==============================] - 14s 251ms/step - loss: 0.0970 - accuracy: 0.9680 - val_loss: 0.0045 - val_accuracy: 0.9989\n",
            "Epoch 69/100\n",
            "57/57 [==============================] - 17s 291ms/step - loss: 0.1064 - accuracy: 0.9650 - val_loss: 0.0053 - val_accuracy: 0.9986\n",
            "Epoch 70/100\n",
            "57/57 [==============================] - 17s 291ms/step - loss: 0.0953 - accuracy: 0.9717 - val_loss: 0.0053 - val_accuracy: 0.9983\n",
            "Epoch 71/100\n",
            "57/57 [==============================] - 17s 291ms/step - loss: 0.0889 - accuracy: 0.9720 - val_loss: 0.0037 - val_accuracy: 0.9986\n",
            "Epoch 72/100\n",
            "57/57 [==============================] - 14s 250ms/step - loss: 0.1159 - accuracy: 0.9631 - val_loss: 0.0052 - val_accuracy: 0.9987\n",
            "Epoch 73/100\n",
            "57/57 [==============================] - 14s 252ms/step - loss: 0.0981 - accuracy: 0.9671 - val_loss: 0.0046 - val_accuracy: 0.9986\n",
            "Epoch 74/100\n",
            "57/57 [==============================] - 14s 250ms/step - loss: 0.1065 - accuracy: 0.9652 - val_loss: 0.0049 - val_accuracy: 0.9985\n",
            "Epoch 75/100\n",
            "57/57 [==============================] - 16s 291ms/step - loss: 0.0940 - accuracy: 0.9682 - val_loss: 0.0041 - val_accuracy: 0.9986\n",
            "Epoch 76/100\n",
            "57/57 [==============================] - 14s 250ms/step - loss: 0.0957 - accuracy: 0.9713 - val_loss: 0.0040 - val_accuracy: 0.9987\n",
            "Epoch 77/100\n",
            "57/57 [==============================] - 14s 250ms/step - loss: 0.0863 - accuracy: 0.9710 - val_loss: 0.0040 - val_accuracy: 0.9985\n",
            "Epoch 78/100\n",
            "57/57 [==============================] - 14s 250ms/step - loss: 0.0934 - accuracy: 0.9702 - val_loss: 0.0035 - val_accuracy: 0.9989\n",
            "Epoch 79/100\n",
            "57/57 [==============================] - 14s 251ms/step - loss: 0.0821 - accuracy: 0.9733 - val_loss: 0.0034 - val_accuracy: 0.9987\n",
            "Epoch 80/100\n",
            "57/57 [==============================] - 17s 291ms/step - loss: 0.0843 - accuracy: 0.9692 - val_loss: 0.0033 - val_accuracy: 0.9989\n",
            "Epoch 81/100\n",
            "57/57 [==============================] - 14s 250ms/step - loss: 0.0949 - accuracy: 0.9663 - val_loss: 0.0039 - val_accuracy: 0.9985\n",
            "Epoch 82/100\n",
            "57/57 [==============================] - 16s 291ms/step - loss: 0.0735 - accuracy: 0.9767 - val_loss: 0.0032 - val_accuracy: 0.9987\n",
            "Epoch 83/100\n",
            "57/57 [==============================] - 17s 291ms/step - loss: 0.0741 - accuracy: 0.9758 - val_loss: 0.0035 - val_accuracy: 0.9985\n",
            "Epoch 84/100\n",
            "57/57 [==============================] - 14s 251ms/step - loss: 0.0820 - accuracy: 0.9733 - val_loss: 0.0032 - val_accuracy: 0.9986\n",
            "Epoch 85/100\n",
            "57/57 [==============================] - 14s 251ms/step - loss: 0.0843 - accuracy: 0.9731 - val_loss: 0.0031 - val_accuracy: 0.9987\n",
            "Epoch 86/100\n",
            "57/57 [==============================] - 16s 291ms/step - loss: 0.0870 - accuracy: 0.9723 - val_loss: 0.0036 - val_accuracy: 0.9987\n",
            "Epoch 87/100\n",
            "57/57 [==============================] - 17s 291ms/step - loss: 0.0822 - accuracy: 0.9720 - val_loss: 0.0035 - val_accuracy: 0.9986\n",
            "Epoch 88/100\n",
            "57/57 [==============================] - 14s 250ms/step - loss: 0.1053 - accuracy: 0.9654 - val_loss: 0.0036 - val_accuracy: 0.9985\n",
            "Epoch 89/100\n",
            "57/57 [==============================] - 17s 291ms/step - loss: 0.0945 - accuracy: 0.9691 - val_loss: 0.0041 - val_accuracy: 0.9987\n",
            "Epoch 90/100\n",
            "57/57 [==============================] - 17s 291ms/step - loss: 0.0856 - accuracy: 0.9733 - val_loss: 0.0039 - val_accuracy: 0.9987\n",
            "Epoch 91/100\n",
            "57/57 [==============================] - 17s 291ms/step - loss: 0.0809 - accuracy: 0.9735 - val_loss: 0.0033 - val_accuracy: 0.9989\n",
            "Epoch 92/100\n",
            "57/57 [==============================] - 17s 291ms/step - loss: 0.0859 - accuracy: 0.9709 - val_loss: 0.0043 - val_accuracy: 0.9982\n",
            "Epoch 93/100\n",
            "57/57 [==============================] - 17s 291ms/step - loss: 0.0752 - accuracy: 0.9735 - val_loss: 0.0031 - val_accuracy: 0.9983\n",
            "Epoch 94/100\n",
            "57/57 [==============================] - 14s 250ms/step - loss: 0.0767 - accuracy: 0.9744 - val_loss: 0.0034 - val_accuracy: 0.9989\n",
            "Epoch 95/100\n",
            "57/57 [==============================] - 14s 251ms/step - loss: 0.0753 - accuracy: 0.9748 - val_loss: 0.0030 - val_accuracy: 0.9986\n",
            "Epoch 96/100\n",
            "57/57 [==============================] - 16s 290ms/step - loss: 0.0755 - accuracy: 0.9744 - val_loss: 0.0031 - val_accuracy: 0.9986\n",
            "Epoch 97/100\n",
            "57/57 [==============================] - 14s 250ms/step - loss: 0.0840 - accuracy: 0.9710 - val_loss: 0.0035 - val_accuracy: 0.9987\n",
            "Epoch 98/100\n",
            "57/57 [==============================] - 14s 250ms/step - loss: 0.0706 - accuracy: 0.9742 - val_loss: 0.0033 - val_accuracy: 0.9986\n",
            "Epoch 99/100\n",
            "57/57 [==============================] - 14s 251ms/step - loss: 0.1017 - accuracy: 0.9660 - val_loss: 0.0035 - val_accuracy: 0.9985\n",
            "Epoch 100/100\n",
            "57/57 [==============================] - 17s 291ms/step - loss: 0.0792 - accuracy: 0.9755 - val_loss: 0.0026 - val_accuracy: 0.9989\n"
          ]
        }
      ],
      "source": [
        "# Define EarlyStopping callback\n",
        "early_stopping = EarlyStopping(monitor='val_accuracy',  # Monitor validation accuracy\n",
        "                               patience=3,             # Number of epochs with no improvement after which training will be stopped\n",
        "                               restore_best_weights=True)  # Restore model weights from the epoch with the best value of the monitored quantity\n",
        "\n",
        "history=model.fit(x=x_train,y=y_train,batch_size=128,epochs=100,validation_data=(x_test,y_test))"
      ]
    },
    {
      "cell_type": "markdown",
      "metadata": {
        "id": "Vpi_fzJNcCSK"
      },
      "source": [
        "Plot Results"
      ]
    },
    {
      "cell_type": "code",
      "execution_count": 45,
      "metadata": {
        "id": "QbKgRsk1cCSL",
        "outputId": "addc6dfb-d44c-4685-fedc-c9f91479394c",
        "colab": {
          "base_uri": "https://localhost:8080/",
          "height": 887
        }
      },
      "outputs": [
        {
          "output_type": "display_data",
          "data": {
            "text/plain": [
              "<Figure size 640x480 with 1 Axes>"
            ],
            "image/png": "[encoded data removed]"
          },
          "metadata": {}
        },
        {
          "output_type": "display_data",
          "data": {
            "text/plain": [
              "<Figure size 640x480 with 1 Axes>"
            ],
            "image/png": "[encoded data removed]"
          },
          "metadata": {}
        }
      ],
      "source": [
        "acc=history.history['accuracy']\n",
        "val_acc=history.history['val_accuracy']\n",
        "epochs=range(len(acc))\n",
        "\n",
        "#accuracy Graph\n",
        "plt.plot(epochs,acc,'b',label='Training Accuracy')\n",
        "plt.plot(epochs,val_acc,'r',label='Validation Accuracy')\n",
        "plt.title('Accuracy Graph')\n",
        "plt.legend()\n",
        "plt.figure()\n",
        "\n",
        "#loss Graph\n",
        "loss=history.history['loss']\n",
        "val_loss=history.history['val_loss']\n",
        "epochs=range(len(acc))\n",
        "\n",
        "plt.plot(epochs,loss,'b',label='Training loss')\n",
        "plt.plot(epochs,val_loss,'r',label='Validation loss')\n",
        "plt.title('loss Graph')\n",
        "plt.legend()\n",
        "\n",
        "plt.show()"
      ]
    },
    {
      "cell_type": "markdown",
      "metadata": {
        "id": "kf0tHhMqcCSL"
      },
      "source": [
        "Test with Image Data"
      ]
    },
    {
      "cell_type": "code",
      "execution_count": 46,
      "metadata": {
        "id": "SP-JgA3QcCSM",
        "outputId": "4654f28f-e701-45e4-f358-c5de1f66a505",
        "colab": {
          "base_uri": "https://localhost:8080/",
          "height": 500
        }
      },
      "outputs": [
        {
          "output_type": "stream",
          "name": "stdout",
          "text": [
            "Original Output: sad\n",
            "1/1 [==============================] - 0s 474ms/step\n",
            "Predicted Output: sad\n"
          ]
        },
        {
          "output_type": "execute_result",
          "data": {
            "text/plain": [
              "<matplotlib.image.AxesImage at 0x7af9341cf970>"
            ]
          },
          "metadata": {},
          "execution_count": 46
        },
        {
          "output_type": "display_data",
          "data": {
            "text/plain": [
              "<Figure size 640x480 with 1 Axes>"
            ],
            "image/png": "[encoded data removed]"
          },
          "metadata": {}
        }
      ],
      "source": [
        "image_index= random.randint(0,len(test))\n",
        "print(\"Original Output:\",test['label'][image_index])\n",
        "pred=model.predict(x_test[image_index].reshape(1,48,48,1))\n",
        "prediction_label=le.inverse_transform([pred.argmax()])[0]\n",
        "#pre.argmax returns the class with higher probability\n",
        "print(\"Predicted Output:\",prediction_label)\n",
        "plt.imshow(x_test[image_index].reshape(48,48),cmap='gray')"
      ]
    },
    {
      "cell_type": "code",
      "execution_count": 47,
      "metadata": {
        "id": "dKFdn09pcCSM",
        "outputId": "3d016461-ef60-436d-ea8f-01112ba4cbbb",
        "colab": {
          "base_uri": "https://localhost:8080/",
          "height": 500
        }
      },
      "outputs": [
        {
          "output_type": "stream",
          "name": "stdout",
          "text": [
            "Original Output: angry\n",
            "1/1 [==============================] - 0s 17ms/step\n",
            "Predicted Output: angry\n"
          ]
        },
        {
          "output_type": "execute_result",
          "data": {
            "text/plain": [
              "<matplotlib.image.AxesImage at 0x7af9baa02710>"
            ]
          },
          "metadata": {},
          "execution_count": 47
        },
        {
          "output_type": "display_data",
          "data": {
            "text/plain": [
              "<Figure size 640x480 with 1 Axes>"
            ],
            "image/png": "[encoded data removed]"
          },
          "metadata": {}
        }
      ],
      "source": [
        "image_index= random.randint(0,len(test))\n",
        "print(\"Original Output:\",test['label'][image_index])\n",
        "pred=model.predict(x_test[image_index].reshape(1,48,48,1))\n",
        "prediction_label=le.inverse_transform([pred.argmax()])[0]\n",
        "print(\"Predicted Output:\",prediction_label)\n",
        "plt.imshow(x_test[image_index].reshape(48,48),cmap='gray')"
      ]
    },
    {
      "cell_type": "code",
      "execution_count": 49,
      "metadata": {
        "id": "5e0-wuPacCSM",
        "outputId": "c91e2b99-7cb3-4659-9228-15dec19b012f",
        "colab": {
          "base_uri": "https://localhost:8080/",
          "height": 500
        }
      },
      "outputs": [
        {
          "output_type": "stream",
          "name": "stdout",
          "text": [
            "Original Output: happy\n",
            "1/1 [==============================] - 0s 110ms/step\n",
            "Predicted Output: happy\n"
          ]
        },
        {
          "output_type": "execute_result",
          "data": {
            "text/plain": [
              "<matplotlib.image.AxesImage at 0x7af928409b40>"
            ]
          },
          "metadata": {},
          "execution_count": 49
        },
        {
          "output_type": "display_data",
          "data": {
            "text/plain": [
              "<Figure size 640x480 with 1 Axes>"
            ],
            "image/png": "[encoded data removed]"
          },
          "metadata": {}
        }
      ],
      "source": [
        "image_index= random.randint(0,len(test))\n",
        "print(\"Original Output:\",test['label'][image_index])\n",
        "pred=model.predict(x_test[image_index].reshape(1,48,48,1))\n",
        "prediction_label=le.inverse_transform([pred.argmax()])[0]\n",
        "print(\"Predicted Output:\",prediction_label)\n",
        "plt.imshow(x_test[image_index].reshape(48,48),cmap='gray')"
      ]
    },
    {
      "cell_type": "code",
      "source": [],
      "metadata": {
        "id": "02uIatu6HTVL"
      },
      "execution_count": null,
      "outputs": []
    }
  ],
  "metadata": {
    "kernelspec": {
      "display_name": "Python 3",
      "name": "python3"
    },
    "language_info": {
      "codemirror_mode": {
        "name": "ipython",
        "version": 3
      },
      "file_extension": ".py",
      "mimetype": "text/x-python",
      "name": "python",
      "nbconvert_exporter": "python",
      "pygments_lexer": "ipython3",
      "version": "3.10.6"
    },
    "orig_nbformat": 4,
    "vscode": {
      "interpreter": {
        "hash": "3b2a114ea51ec8c0e71ed1190fb223099ab8dbeaf9cb11f0dbaa9c23f800617b"
      }
    },
    "colab": {
      "provenance": [],
      "gpuType": "T4"
    },
    "accelerator": "GPU",
    "widgets": {
      "application/vnd.jupyter.widget-state+json": {
        "cb1dd184a33249d8804be41bc144253c": {
          "model_module": "@jupyter-widgets/controls",
          "model_name": "HBoxModel",
          "model_module_version": "1.5.0",
          "state": {
            "_dom_classes": [],
            "_model_module": "@jupyter-widgets/controls",
            "_model_module_version": "1.5.0",
            "_model_name": "HBoxModel",
            "_view_count": null,
            "_view_module": "@jupyter-widgets/controls",
            "_view_module_version": "1.5.0",
            "_view_name": "HBoxView",
            "box_style": "",
            "children": [
              "IPY_MODEL_a68fc8328a6e4abe864c617753666ab6",
              "IPY_MODEL_01f3c06db2f74ae7ac05499fc8713318",
              "IPY_MODEL_f9463183e49448faaaddaf9031b5222c"
            ],
            "layout": "IPY_MODEL_aaa3ac379b2d4961885322b716a9a9a5"
          }
        },
        "a68fc8328a6e4abe864c617753666ab6": {
          "model_module": "@jupyter-widgets/controls",
          "model_name": "HTMLModel",
          "model_module_version": "1.5.0",
          "state": {
            "_dom_classes": [],
            "_model_module": "@jupyter-widgets/controls",
            "_model_module_version": "1.5.0",
            "_model_name": "HTMLModel",
            "_view_count": null,
            "_view_module": "@jupyter-widgets/controls",
            "_view_module_version": "1.5.0",
            "_view_name": "HTMLView",
            "description": "",
            "description_tooltip": null,
            "layout": "IPY_MODEL_cd761d3cc967409e8c3573673e23ffba",
            "placeholder": "​",
            "style": "IPY_MODEL_17c77889e98b4559875038e132493cbf",
            "value": "100%"
          }
        },
        "01f3c06db2f74ae7ac05499fc8713318": {
          "model_module": "@jupyter-widgets/controls",
          "model_name": "FloatProgressModel",
          "model_module_version": "1.5.0",
          "state": {
            "_dom_classes": [],
            "_model_module": "@jupyter-widgets/controls",
            "_model_module_version": "1.5.0",
            "_model_name": "FloatProgressModel",
            "_view_count": null,
            "_view_module": "@jupyter-widgets/controls",
            "_view_module_version": "1.5.0",
            "_view_name": "ProgressView",
            "bar_style": "success",
            "description": "",
            "description_tooltip": null,
            "layout": "IPY_MODEL_fb009b9daa804e98b7a19b590b7fa819",
            "max": 7178,
            "min": 0,
            "orientation": "horizontal",
            "style": "IPY_MODEL_b9516e2433b24f3280b00474e042746f",
            "value": 7178
          }
        },
        "f9463183e49448faaaddaf9031b5222c": {
          "model_module": "@jupyter-widgets/controls",
          "model_name": "HTMLModel",
          "model_module_version": "1.5.0",
          "state": {
            "_dom_classes": [],
            "_model_module": "@jupyter-widgets/controls",
            "_model_module_version": "1.5.0",
            "_model_name": "HTMLModel",
            "_view_count": null,
            "_view_module": "@jupyter-widgets/controls",
            "_view_module_version": "1.5.0",
            "_view_name": "HTMLView",
            "description": "",
            "description_tooltip": null,
            "layout": "IPY_MODEL_6bed2415247b4da4bcdb8686ff71e5c0",
            "placeholder": "​",
            "style": "IPY_MODEL_667ce8e136af4adaa9e8073cf422c2e8",
            "value": " 7178/7178 [40:43&lt;00:00,  2.73it/s]"
          }
        },
        "aaa3ac379b2d4961885322b716a9a9a5": {
          "model_module": "@jupyter-widgets/base",
          "model_name": "LayoutModel",
          "model_module_version": "1.2.0",
          "state": {
            "_model_module": "@jupyter-widgets/base",
            "_model_module_version": "1.2.0",
            "_model_name": "LayoutModel",
            "_view_count": null,
            "_view_module": "@jupyter-widgets/base",
            "_view_module_version": "1.2.0",
            "_view_name": "LayoutView",
            "align_content": null,
            "align_items": null,
            "align_self": null,
            "border": null,
            "bottom": null,
            "display": null,
            "flex": null,
            "flex_flow": null,
            "grid_area": null,
            "grid_auto_columns": null,
            "grid_auto_flow": null,
            "grid_auto_rows": null,
            "grid_column": null,
            "grid_gap": null,
            "grid_row": null,
            "grid_template_areas": null,
            "grid_template_columns": null,
            "grid_template_rows": null,
            "height": null,
            "justify_content": null,
            "justify_items": null,
            "left": null,
            "margin": null,
            "max_height": null,
            "max_width": null,
            "min_height": null,
            "min_width": null,
            "object_fit": null,
            "object_position": null,
            "order": null,
            "overflow": null,
            "overflow_x": null,
            "overflow_y": null,
            "padding": null,
            "right": null,
            "top": null,
            "visibility": null,
            "width": null
          }
        },
        "cd761d3cc967409e8c3573673e23ffba": {
          "model_module": "@jupyter-widgets/base",
          "model_name": "LayoutModel",
          "model_module_version": "1.2.0",
          "state": {
            "_model_module": "@jupyter-widgets/base",
            "_model_module_version": "1.2.0",
            "_model_name": "LayoutModel",
            "_view_count": null,
            "_view_module": "@jupyter-widgets/base",
            "_view_module_version": "1.2.0",
            "_view_name": "LayoutView",
            "align_content": null,
            "align_items": null,
            "align_self": null,
            "border": null,
            "bottom": null,
            "display": null,
            "flex": null,
            "flex_flow": null,
            "grid_area": null,
            "grid_auto_columns": null,
            "grid_auto_flow": null,
            "grid_auto_rows": null,
            "grid_column": null,
            "grid_gap": null,
            "grid_row": null,
            "grid_template_areas": null,
            "grid_template_columns": null,
            "grid_template_rows": null,
            "height": null,
            "justify_content": null,
            "justify_items": null,
            "left": null,
            "margin": null,
            "max_height": null,
            "max_width": null,
            "min_height": null,
            "min_width": null,
            "object_fit": null,
            "object_position": null,
            "order": null,
            "overflow": null,
            "overflow_x": null,
            "overflow_y": null,
            "padding": null,
            "right": null,
            "top": null,
            "visibility": null,
            "width": null
          }
        },
        "17c77889e98b4559875038e132493cbf": {
          "model_module": "@jupyter-widgets/controls",
          "model_name": "DescriptionStyleModel",
          "model_module_version": "1.5.0",
          "state": {
            "_model_module": "@jupyter-widgets/controls",
            "_model_module_version": "1.5.0",
            "_model_name": "DescriptionStyleModel",
            "_view_count": null,
            "_view_module": "@jupyter-widgets/base",
            "_view_module_version": "1.2.0",
            "_view_name": "StyleView",
            "description_width": ""
          }
        },
        "fb009b9daa804e98b7a19b590b7fa819": {
          "model_module": "@jupyter-widgets/base",
          "model_name": "LayoutModel",
          "model_module_version": "1.2.0",
          "state": {
            "_model_module": "@jupyter-widgets/base",
            "_model_module_version": "1.2.0",
            "_model_name": "LayoutModel",
            "_view_count": null,
            "_view_module": "@jupyter-widgets/base",
            "_view_module_version": "1.2.0",
            "_view_name": "LayoutView",
            "align_content": null,
            "align_items": null,
            "align_self": null,
            "border": null,
            "bottom": null,
            "display": null,
            "flex": null,
            "flex_flow": null,
            "grid_area": null,
            "grid_auto_columns": null,
            "grid_auto_flow": null,
            "grid_auto_rows": null,
            "grid_column": null,
            "grid_gap": null,
            "grid_row": null,
            "grid_template_areas": null,
            "grid_template_columns": null,
            "grid_template_rows": null,
            "height": null,
            "justify_content": null,
            "justify_items": null,
            "left": null,
            "margin": null,
            "max_height": null,
            "max_width": null,
            "min_height": null,
            "min_width": null,
            "object_fit": null,
            "object_position": null,
            "order": null,
            "overflow": null,
            "overflow_x": null,
            "overflow_y": null,
            "padding": null,
            "right": null,
            "top": null,
            "visibility": null,
            "width": null
          }
        },
        "b9516e2433b24f3280b00474e042746f": {
          "model_module": "@jupyter-widgets/controls",
          "model_name": "ProgressStyleModel",
          "model_module_version": "1.5.0",
          "state": {
            "_model_module": "@jupyter-widgets/controls",
            "_model_module_version": "1.5.0",
            "_model_name": "ProgressStyleModel",
            "_view_count": null,
            "_view_module": "@jupyter-widgets/base",
            "_view_module_version": "1.2.0",
            "_view_name": "StyleView",
            "bar_color": null,
            "description_width": ""
          }
        },
        "6bed2415247b4da4bcdb8686ff71e5c0": {
          "model_module": "@jupyter-widgets/base",
          "model_name": "LayoutModel",
          "model_module_version": "1.2.0",
          "state": {
            "_model_module": "@jupyter-widgets/base",
            "_model_module_version": "1.2.0",
            "_model_name": "LayoutModel",
            "_view_count": null,
            "_view_module": "@jupyter-widgets/base",
            "_view_module_version": "1.2.0",
            "_view_name": "LayoutView",
            "align_content": null,
            "align_items": null,
            "align_self": null,
            "border": null,
            "bottom": null,
            "display": null,
            "flex": null,
            "flex_flow": null,
            "grid_area": null,
            "grid_auto_columns": null,
            "grid_auto_flow": null,
            "grid_auto_rows": null,
            "grid_column": null,
            "grid_gap": null,
            "grid_row": null,
            "grid_template_areas": null,
            "grid_template_columns": null,
            "grid_template_rows": null,
            "height": null,
            "justify_content": null,
            "justify_items": null,
            "left": null,
            "margin": null,
            "max_height": null,
            "max_width": null,
            "min_height": null,
            "min_width": null,
            "object_fit": null,
            "object_position": null,
            "order": null,
            "overflow": null,
            "overflow_x": null,
            "overflow_y": null,
            "padding": null,
            "right": null,
            "top": null,
            "visibility": null,
            "width": null
          }
        },
        "667ce8e136af4adaa9e8073cf422c2e8": {
          "model_module": "@jupyter-widgets/controls",
          "model_name": "DescriptionStyleModel",
          "model_module_version": "1.5.0",
          "state": {
            "_model_module": "@jupyter-widgets/controls",
            "_model_module_version": "1.5.0",
            "_model_name": "DescriptionStyleModel",
            "_view_count": null,
            "_view_module": "@jupyter-widgets/base",
            "_view_module_version": "1.2.0",
            "_view_name": "StyleView",
            "description_width": ""
          }
        },
        "1f851ed450164c14a36769e324973378": {
          "model_module": "@jupyter-widgets/controls",
          "model_name": "HBoxModel",
          "model_module_version": "1.5.0",
          "state": {
            "_dom_classes": [],
            "_model_module": "@jupyter-widgets/controls",
            "_model_module_version": "1.5.0",
            "_model_name": "HBoxModel",
            "_view_count": null,
            "_view_module": "@jupyter-widgets/controls",
            "_view_module_version": "1.5.0",
            "_view_name": "HBoxView",
            "box_style": "",
            "children": [
              "IPY_MODEL_9cc5939a5ffd477fbdf37b5d2d6fe027",
              "IPY_MODEL_c76f1310350446baa3b91be97cf84e11",
              "IPY_MODEL_9ea140493beb4588939ad2b1cbcbcef5"
            ],
            "layout": "IPY_MODEL_635dae6bf3364b4f8ecad95b953ee589"
          }
        },
        "9cc5939a5ffd477fbdf37b5d2d6fe027": {
          "model_module": "@jupyter-widgets/controls",
          "model_name": "HTMLModel",
          "model_module_version": "1.5.0",
          "state": {
            "_dom_classes": [],
            "_model_module": "@jupyter-widgets/controls",
            "_model_module_version": "1.5.0",
            "_model_name": "HTMLModel",
            "_view_count": null,
            "_view_module": "@jupyter-widgets/controls",
            "_view_module_version": "1.5.0",
            "_view_name": "HTMLView",
            "description": "",
            "description_tooltip": null,
            "layout": "IPY_MODEL_22d384965725417c934fcebd07cbbf70",
            "placeholder": "​",
            "style": "IPY_MODEL_be15ea9fb5ec42f7b2bd9332ffe8a5f1",
            "value": "100%"
          }
        },
        "c76f1310350446baa3b91be97cf84e11": {
          "model_module": "@jupyter-widgets/controls",
          "model_name": "FloatProgressModel",
          "model_module_version": "1.5.0",
          "state": {
            "_dom_classes": [],
            "_model_module": "@jupyter-widgets/controls",
            "_model_module_version": "1.5.0",
            "_model_name": "FloatProgressModel",
            "_view_count": null,
            "_view_module": "@jupyter-widgets/controls",
            "_view_module_version": "1.5.0",
            "_view_name": "ProgressView",
            "bar_style": "success",
            "description": "",
            "description_tooltip": null,
            "layout": "IPY_MODEL_a04e54afeb8c404fa76b59fa45b5a389",
            "max": 7178,
            "min": 0,
            "orientation": "horizontal",
            "style": "IPY_MODEL_9888dd1daa404dff802acda450b9a53d",
            "value": 7178
          }
        },
        "9ea140493beb4588939ad2b1cbcbcef5": {
          "model_module": "@jupyter-widgets/controls",
          "model_name": "HTMLModel",
          "model_module_version": "1.5.0",
          "state": {
            "_dom_classes": [],
            "_model_module": "@jupyter-widgets/controls",
            "_model_module_version": "1.5.0",
            "_model_name": "HTMLModel",
            "_view_count": null,
            "_view_module": "@jupyter-widgets/controls",
            "_view_module_version": "1.5.0",
            "_view_name": "HTMLView",
            "description": "",
            "description_tooltip": null,
            "layout": "IPY_MODEL_aed967a8201b47458100e50a044d422e",
            "placeholder": "​",
            "style": "IPY_MODEL_dcc44770e49a45d6a4963c33446a550b",
            "value": " 7178/7178 [00:08&lt;00:00, 832.64it/s]"
          }
        },
        "635dae6bf3364b4f8ecad95b953ee589": {
          "model_module": "@jupyter-widgets/base",
          "model_name": "LayoutModel",
          "model_module_version": "1.2.0",
          "state": {
            "_model_module": "@jupyter-widgets/base",
            "_model_module_version": "1.2.0",
            "_model_name": "LayoutModel",
            "_view_count": null,
            "_view_module": "@jupyter-widgets/base",
            "_view_module_version": "1.2.0",
            "_view_name": "LayoutView",
            "align_content": null,
            "align_items": null,
            "align_self": null,
            "border": null,
            "bottom": null,
            "display": null,
            "flex": null,
            "flex_flow": null,
            "grid_area": null,
            "grid_auto_columns": null,
            "grid_auto_flow": null,
            "grid_auto_rows": null,
            "grid_column": null,
            "grid_gap": null,
            "grid_row": null,
            "grid_template_areas": null,
            "grid_template_columns": null,
            "grid_template_rows": null,
            "height": null,
            "justify_content": null,
            "justify_items": null,
            "left": null,
            "margin": null,
            "max_height": null,
            "max_width": null,
            "min_height": null,
            "min_width": null,
            "object_fit": null,
            "object_position": null,
            "order": null,
            "overflow": null,
            "overflow_x": null,
            "overflow_y": null,
            "padding": null,
            "right": null,
            "top": null,
            "visibility": null,
            "width": null
          }
        },
        "22d384965725417c934fcebd07cbbf70": {
          "model_module": "@jupyter-widgets/base",
          "model_name": "LayoutModel",
          "model_module_version": "1.2.0",
          "state": {
            "_model_module": "@jupyter-widgets/base",
            "_model_module_version": "1.2.0",
            "_model_name": "LayoutModel",
            "_view_count": null,
            "_view_module": "@jupyter-widgets/base",
            "_view_module_version": "1.2.0",
            "_view_name": "LayoutView",
            "align_content": null,
            "align_items": null,
            "align_self": null,
            "border": null,
            "bottom": null,
            "display": null,
            "flex": null,
            "flex_flow": null,
            "grid_area": null,
            "grid_auto_columns": null,
            "grid_auto_flow": null,
            "grid_auto_rows": null,
            "grid_column": null,
            "grid_gap": null,
            "grid_row": null,
            "grid_template_areas": null,
            "grid_template_columns": null,
            "grid_template_rows": null,
            "height": null,
            "justify_content": null,
            "justify_items": null,
            "left": null,
            "margin": null,
            "max_height": null,
            "max_width": null,
            "min_height": null,
            "min_width": null,
            "object_fit": null,
            "object_position": null,
            "order": null,
            "overflow": null,
            "overflow_x": null,
            "overflow_y": null,
            "padding": null,
            "right": null,
            "top": null,
            "visibility": null,
            "width": null
          }
        },
        "be15ea9fb5ec42f7b2bd9332ffe8a5f1": {
          "model_module": "@jupyter-widgets/controls",
          "model_name": "DescriptionStyleModel",
          "model_module_version": "1.5.0",
          "state": {
            "_model_module": "@jupyter-widgets/controls",
            "_model_module_version": "1.5.0",
            "_model_name": "DescriptionStyleModel",
            "_view_count": null,
            "_view_module": "@jupyter-widgets/base",
            "_view_module_version": "1.2.0",
            "_view_name": "StyleView",
            "description_width": ""
          }
        },
        "a04e54afeb8c404fa76b59fa45b5a389": {
          "model_module": "@jupyter-widgets/base",
          "model_name": "LayoutModel",
          "model_module_version": "1.2.0",
          "state": {
            "_model_module": "@jupyter-widgets/base",
            "_model_module_version": "1.2.0",
            "_model_name": "LayoutModel",
            "_view_count": null,
            "_view_module": "@jupyter-widgets/base",
            "_view_module_version": "1.2.0",
            "_view_name": "LayoutView",
            "align_content": null,
            "align_items": null,
            "align_self": null,
            "border": null,
            "bottom": null,
            "display": null,
            "flex": null,
            "flex_flow": null,
            "grid_area": null,
            "grid_auto_columns": null,
            "grid_auto_flow": null,
            "grid_auto_rows": null,
            "grid_column": null,
            "grid_gap": null,
            "grid_row": null,
            "grid_template_areas": null,
            "grid_template_columns": null,
            "grid_template_rows": null,
            "height": null,
            "justify_content": null,
            "justify_items": null,
            "left": null,
            "margin": null,
            "max_height": null,
            "max_width": null,
            "min_height": null,
            "min_width": null,
            "object_fit": null,
            "object_position": null,
            "order": null,
            "overflow": null,
            "overflow_x": null,
            "overflow_y": null,
            "padding": null,
            "right": null,
            "top": null,
            "visibility": null,
            "width": null
          }
        },
        "9888dd1daa404dff802acda450b9a53d": {
          "model_module": "@jupyter-widgets/controls",
          "model_name": "ProgressStyleModel",
          "model_module_version": "1.5.0",
          "state": {
            "_model_module": "@jupyter-widgets/controls",
            "_model_module_version": "1.5.0",
            "_model_name": "ProgressStyleModel",
            "_view_count": null,
            "_view_module": "@jupyter-widgets/base",
            "_view_module_version": "1.2.0",
            "_view_name": "StyleView",
            "bar_color": null,
            "description_width": ""
          }
        },
        "aed967a8201b47458100e50a044d422e": {
          "model_module": "@jupyter-widgets/base",
          "model_name": "LayoutModel",
          "model_module_version": "1.2.0",
          "state": {
            "_model_module": "@jupyter-widgets/base",
            "_model_module_version": "1.2.0",
            "_model_name": "LayoutModel",
            "_view_count": null,
            "_view_module": "@jupyter-widgets/base",
            "_view_module_version": "1.2.0",
            "_view_name": "LayoutView",
            "align_content": null,
            "align_items": null,
            "align_self": null,
            "border": null,
            "bottom": null,
            "display": null,
            "flex": null,
            "flex_flow": null,
            "grid_area": null,
            "grid_auto_columns": null,
            "grid_auto_flow": null,
            "grid_auto_rows": null,
            "grid_column": null,
            "grid_gap": null,
            "grid_row": null,
            "grid_template_areas": null,
            "grid_template_columns": null,
            "grid_template_rows": null,
            "height": null,
            "justify_content": null,
            "justify_items": null,
            "left": null,
            "margin": null,
            "max_height": null,
            "max_width": null,
            "min_height": null,
            "min_width": null,
            "object_fit": null,
            "object_position": null,
            "order": null,
            "overflow": null,
            "overflow_x": null,
            "overflow_y": null,
            "padding": null,
            "right": null,
            "top": null,
            "visibility": null,
            "width": null
          }
        },
        "dcc44770e49a45d6a4963c33446a550b": {
          "model_module": "@jupyter-widgets/controls",
          "model_name": "DescriptionStyleModel",
          "model_module_version": "1.5.0",
          "state": {
            "_model_module": "@jupyter-widgets/controls",
            "_model_module_version": "1.5.0",
            "_model_name": "DescriptionStyleModel",
            "_view_count": null,
            "_view_module": "@jupyter-widgets/base",
            "_view_module_version": "1.2.0",
            "_view_name": "StyleView",
            "description_width": ""
          }
        }
      }
    }
  },
  "nbformat": 4,
  "nbformat_minor": 0
}